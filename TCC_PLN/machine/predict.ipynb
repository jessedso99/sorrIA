{
 "cells": [
  {
   "cell_type": "code",
   "execution_count": 4,
   "metadata": {},
   "outputs": [],
   "source": [
    "import joblib\n",
    "\n",
    "vectorizer = joblib.load('models/rbf_vectorizer.pkl')\n",
    "modelo = joblib.load('models/rbf_modelo_treinado_svc.pkl')\n",
    "stopwords = joblib.load('models/rbf_stopwords.pkl')"
   ]
  },
  {
   "cell_type": "code",
   "execution_count": null,
   "metadata": {},
   "outputs": [],
   "source": [
    "from nltk.tokenize import word_tokenize\n",
    "import numpy as np\n",
    "\n",
    "def rem_stopwords(text):\n",
    "  words = word_tokenize(text.lower())\n",
    "  return [w for w in words if w not in stopwords]"
   ]
  },
  {
   "cell_type": "code",
   "execution_count": null,
   "metadata": {},
   "outputs": [],
   "source": [
    "def text_process(meuTexto):\n",
    "    meuTexto = [meuTexto]\n",
    "    meuTexto = [\" \".join(rem_stopwords(text)) for text in meuTexto]\n",
    "    meuTexto_tfidf = vectorizer.transform(meuTexto).toarray()\n",
    "\n",
    "    y_pred_new = modelo.predict(np.array(meuTexto_tfidf[0]).reshape(1, -1))\n",
    "    return y_pred_new\n",
    "    # print(y_pred_new)"
   ]
  }
 ],
 "metadata": {
  "kernelspec": {
   "display_name": "Python 3",
   "language": "python",
   "name": "python3"
  },
  "language_info": {
   "codemirror_mode": {
    "name": "ipython",
    "version": 3
   },
   "file_extension": ".py",
   "mimetype": "text/x-python",
   "name": "python",
   "nbconvert_exporter": "python",
   "pygments_lexer": "ipython3",
   "version": "3.11.4"
  }
 },
 "nbformat": 4,
 "nbformat_minor": 2
}
