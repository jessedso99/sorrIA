{
 "cells": [
  {
   "cell_type": "code",
   "execution_count": 61,
   "metadata": {
    "colab": {
     "base_uri": "https://localhost:8080/"
    },
    "collapsed": true,
    "id": "Nn6Z-QOVE652",
    "outputId": "d7a13a2d-6e30-42a0-c040-16867101b8e1"
   },
   "outputs": [],
   "source": [
    "import pandas as pd\n",
    "url=\"https://drive.google.com/file/d/1wqCgWx0Q3k9k1NfnkuwOcKDh1oz1S014/view?usp=sharing\"\n",
    "# url=\"https://drive.google.com/file/d/1r83ob7VN7ajV58QfM4FLLxzGIHMJ3Hn2/view?usp=sharing\"\n",
    "url='https://drive.google.com/uc?id=' + url.split('/')[-2]\n",
    "df = pd.read_csv(url, delimiter=';')\n",
    "base = df # backup\n",
    "\n",
    "df = df[[\"content\", \"sentiment\"]]"
   ]
  },
  {
   "cell_type": "code",
   "execution_count": 62,
   "metadata": {},
   "outputs": [
    {
     "name": "stdout",
     "output_type": "stream",
     "text": [
      "sentiment\n",
      "Positivo     80\n",
      "Negativo     80\n",
      "Reembolso    40\n",
      "Melhorias    40\n",
      "Dúvidas      40\n",
      "Name: count, dtype: int64\n"
     ]
    }
   ],
   "source": [
    "print(df[\"sentiment\"].value_counts())"
   ]
  },
  {
   "cell_type": "code",
   "execution_count": 56,
   "metadata": {
    "colab": {
     "base_uri": "https://localhost:8080/"
    },
    "collapsed": true,
    "id": "_rOZl4WUKN9v",
    "outputId": "791a80fb-6ca5-4eb2-8b6c-e1a85ec5631d"
   },
   "outputs": [
    {
     "name": "stderr",
     "output_type": "stream",
     "text": [
      "[nltk_data] Downloading package stopwords to\n",
      "[nltk_data]     C:\\Users\\jesse\\AppData\\Roaming\\nltk_data...\n",
      "[nltk_data]   Package stopwords is already up-to-date!\n",
      "[nltk_data] Downloading package punkt to\n",
      "[nltk_data]     C:\\Users\\jesse\\AppData\\Roaming\\nltk_data...\n",
      "[nltk_data]   Package punkt is already up-to-date!\n",
      "C:\\Users\\jesse\\AppData\\Local\\Temp\\ipykernel_24356\\274151821.py:14: SettingWithCopyWarning: \n",
      "A value is trying to be set on a copy of a slice from a DataFrame.\n",
      "Try using .loc[row_indexer,col_indexer] = value instead\n",
      "\n",
      "See the caveats in the documentation: https://pandas.pydata.org/pandas-docs/stable/user_guide/indexing.html#returning-a-view-versus-a-copy\n",
      "  df.content = df.content.apply(lambda x: \" \".join(rem_stopwords(x)))\n"
     ]
    }
   ],
   "source": [
    "from nltk.tokenize import word_tokenize\n",
    "import nltk\n",
    "nltk.download('stopwords')\n",
    "nltk.download('punkt')\n",
    "stopwords = nltk.corpus.stopwords.words('portuguese')\n",
    "swToRemove = ['não','nem','quando','qual','quem','como','estou','mas']\n",
    "for i in swToRemove:\n",
    "  stopwords.remove(i)\n",
    "\n",
    "def rem_stopwords(text):\n",
    "  words = word_tokenize(text.lower())\n",
    "  return [w for w in words if w not in stopwords]\n",
    "\n",
    "df.content = df.content.apply(lambda x: \" \".join(rem_stopwords(x)))"
   ]
  },
  {
   "cell_type": "code",
   "execution_count": 57,
   "metadata": {
    "id": "WKX7waHkhUTe"
   },
   "outputs": [],
   "source": [
    "import nltk\n",
    "import numpy as np\n",
    "from sklearn.feature_extraction.text import TfidfVectorizer\n",
    "from sklearn.feature_extraction.text import CountVectorizer\n",
    "\n",
    "frases = df.content.tolist()\n",
    "vectorizer = TfidfVectorizer(ngram_range=(1, 2))\n",
    "vectorizer.fit(frases)\n",
    "vocabulario = vectorizer.get_feature_names_out()\n",
    "\n",
    "frases_vec = vectorizer.transform(frases).toarray()\n",
    "sentimentos = np.array(df['sentiment'])"
   ]
  },
  {
   "cell_type": "code",
   "execution_count": 58,
   "metadata": {
    "id": "0v4YfVfn0shG"
   },
   "outputs": [],
   "source": [
    "from sklearn.model_selection import train_test_split\n",
    "treino_x, teste_x, treino_y, teste_y = train_test_split(frases_vec, sentimentos, test_size= 0.3)"
   ]
  },
  {
   "cell_type": "code",
   "execution_count": 59,
   "metadata": {
    "collapsed": true,
    "id": "24dE2-l10sjS"
   },
   "outputs": [],
   "source": [
    "from sklearn.svm import SVC\n",
    "modelo = SVC(kernel='sigmoid') # (kernel='linear')\n",
    "modelo.fit(treino_x, treino_y)\n",
    "y_pred = modelo.predict(teste_x)"
   ]
  },
  {
   "cell_type": "code",
   "execution_count": 60,
   "metadata": {},
   "outputs": [
    {
     "name": "stdout",
     "output_type": "stream",
     "text": [
      "Modelo salvo em models\\rbf_modelo_treinado_svc.pkl\n",
      "Vectorizer salvo em models\\rbf_vectorizer.pkl\n",
      "Vectorizer salvo em models\\rbf_stopwords.pkl\n"
     ]
    }
   ],
   "source": [
    "# Salvar o modelo\n",
    "import os\n",
    "import joblib\n",
    "if not os.path.exists('models'):\n",
    "    os.makedirs('models')\n",
    "model_path = os.path.join('models', 'rbf_modelo_treinado_svc.pkl')\n",
    "joblib.dump(modelo, model_path)\n",
    "print(f\"Modelo salvo em {model_path}\")\n",
    "\n",
    "# Salvar o Vectorizer\n",
    "if not os.path.exists('models'):\n",
    "    os.makedirs('models')\n",
    "vectorizer_path = os.path.join('models', 'rbf_vectorizer.pkl')\n",
    "joblib.dump(vectorizer, vectorizer_path)\n",
    "print(f\"Vectorizer salvo em {vectorizer_path}\")\n",
    "\n",
    "# Salvar o stopwords\n",
    "if not os.path.exists('models'):\n",
    "    os.makedirs('models')\n",
    "stopwords_path = os.path.join('models', 'rbf_stopwords.pkl')\n",
    "joblib.dump(stopwords, stopwords_path)\n",
    "print(f\"Vectorizer salvo em {stopwords_path}\")\n"
   ]
  }
 ],
 "metadata": {
  "colab": {
   "provenance": []
  },
  "kernelspec": {
   "display_name": "Python 3",
   "name": "python3"
  },
  "language_info": {
   "codemirror_mode": {
    "name": "ipython",
    "version": 3
   },
   "file_extension": ".py",
   "mimetype": "text/x-python",
   "name": "python",
   "nbconvert_exporter": "python",
   "pygments_lexer": "ipython3",
   "version": "3.11.4"
  }
 },
 "nbformat": 4,
 "nbformat_minor": 0
}
